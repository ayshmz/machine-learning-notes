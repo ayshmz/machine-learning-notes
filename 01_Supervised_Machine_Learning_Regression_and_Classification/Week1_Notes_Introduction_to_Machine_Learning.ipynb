{
 "cells": [
  {
   "cell_type": "markdown",
   "id": "a0e91bec",
   "metadata": {},
   "source": [
    "# Week 1 - What is machine learning?"
   ]
  },
  {
   "cell_type": "markdown",
   "id": "8d8b11ea",
   "metadata": {},
   "source": [
    "## Supervised vs. Unsupervised Machine Learning\n",
    "\n",
    "### Supervised Learning\n",
    "\n",
    "Algorithms that learn how to take an input and will produce an output\n",
    "- learns from being trained on 'right answers'\n",
    "- goal is to eventually give these 'right answers' on its own\n",
    "\n",
    "Different applications of Supervised learning\n",
    "- spam filtering (email => spam)\n",
    "- speech recognition (audto => text transcripts)\n",
    "- machine translation (English => Spanish)\n",
    "- online advertising (ad, user info => click)\n",
    "- self-driving car (image, radar info => position of other cars)\n",
    "- visual inspection (image or phone => defect)\n",
    "\n",
    "**Regression**\n",
    "- Example: Housing prices vs square footage\n",
    "- Plot square footage (x-axis) and housing prices (y-axis)\n",
    "- The goal of regression is to find the 'best fit line' through the points to make the best prediction possible\n",
    "\n",
    "**Classification**\n",
    "- Example: breast cancer detection\n",
    "- Plot size of tumor in cm (x-axis) vs diagnosis [0, 1] (y-axis) => there's a clear divide (choice is either 0 for benign or 1 for malignant)\n",
    "- Can plot them on a number line using two different symbols\n",
    "- Since countable number of possibilities, would be considered classification\n",
    "- The goal is the find the 'boundary' to classify the types of breast cancer (categories)\n",
    "- Output classes synonymous to output category\n",
    "\n",
    "### Unsupervised Learning\n",
    "\n",
    "Algorithms that find some interesting grouping in the data. Takes data without labels and tries to create its own labels/structure.\n",
    "\n",
    "**Clustering**\n",
    "- Example 1: Google news clustering\n",
    "- Cluster news articles that have similar words together to find 'related articles'\n",
    " \n",
    "- Example 2: DNA microarray\n",
    "- Plot individuals (column) and genes (row)\n",
    "- Can cluster individuals together by the similarlity of their genes\n",
    " \n",
    "- Example 3: Grouping customers\n",
    "- Use user data to find different segments in the market\n",
    " \n",
    "**Anomaly Detection**\n",
    "- Main goal is to find unusual data points\n",
    "\n",
    "**Dimensionality reduction**\n",
    "- Main goal is to compress data using fewer numbers"
   ]
  },
  {
   "cell_type": "markdown",
   "id": "e0c8794f",
   "metadata": {},
   "source": [
    "## Linear Regression Model Part 1\n",
    "\n",
    "Common terminology:\n",
    "- training set: the dataset you use to train the model\n",
    "- $x$: input variable/feature\n",
    "- $y$: target/output variable\n",
    "- ($x, y$): single training example\n",
    "- ($x^{(i)}, y^{(i)})$: $i^{th}$ training example\n",
    "\n",
    "## Linear Regression Model Part 2\n",
    "\n",
    "### General process for Supervised Learning\n",
    "We start with a training set and we create a learning algorithm to build a model ($f$). We then use our test data set to have our model generate a prediction ($\\hat{y}$).\n",
    "<br>\n",
    "<br>\n",
    "The notation we would use to represent $f$ is:\n",
    "$f_{w, b}(x) = wx + b$\n",
    "<br>\n",
    "<br>\n",
    "Types of Regressions:\n",
    "- Linear regression: with one (single feature $x$) variable\n",
    "    - also known as univariate linear regression"
   ]
  },
  {
   "cell_type": "markdown",
   "id": "6f795a0c",
   "metadata": {},
   "source": [
    "## Lab 2 - Model Representation\n",
    "\n",
    "### Tools\n",
    "Common tools used in machine learning\n",
    "- NumPy: popular library for scientific computing\n",
    "- Matplotlib: popular library for visualizing data\n",
    "\n",
    "### Step 1: General Data Set-Up"
   ]
  },
  {
   "cell_type": "code",
   "execution_count": 26,
   "id": "78995e56",
   "metadata": {},
   "outputs": [
    {
     "name": "stdout",
     "output_type": "stream",
     "text": [
      "Number of training examples is: 5\n",
      "(x^(0), y^(0)) = (1, 100)\n"
     ]
    }
   ],
   "source": [
    "import math, copy\n",
    "import numpy as np\n",
    "import matplotlib.pyplot as plt\n",
    "# plt.style.use({PATH_TO_FILE}) <- optional styling for plots\n",
    "\n",
    "# usually you use an array of data and split it into training and testing data\n",
    "x_train = np.array([1, 2, 3, 4, 5])\n",
    "y_train = np.array([100, 200, 300, 400, 500])\n",
    "\n",
    "# m is the number of training examples, in this case the length of x_train\n",
    "m = len(x_train)\n",
    "print(f\"Number of training examples is: {m}\")\n",
    "\n",
    "# a training example is just one row or one datapoint of the training set, denoted by x_i and y_i\n",
    "i = 0\n",
    "x_i = x_train[i]\n",
    "y_i = y_train[i]\n",
    "print(f\"(x^({i}), y^({i})) = ({x_i}, {y_i})\")"
   ]
  },
  {
   "cell_type": "markdown",
   "id": "e45c9592",
   "metadata": {},
   "source": [
    "### Step 2: Plotting the Training Data (if possible, to visualize best fit)"
   ]
  },
  {
   "cell_type": "code",
   "execution_count": 43,
   "id": "6d8a8069",
   "metadata": {},
   "outputs": [
    {
     "name": "stdout",
     "output_type": "stream",
     "text": [
      "Example Plot\n"
     ]
    },
    {
     "data": {
      "image/png": "[encoded data removed]",
      "text/plain": [
       "<Figure size 640x480 with 1 Axes>"
      ]
     },
     "metadata": {},
     "output_type": "display_data"
    }
   ],
   "source": [
    "print('Example Plot')\n",
    "# Plot the data points & customized color\n",
    "plt.scatter(x_train, y_train, marker='x', c='r')\n",
    "plt.title('Sample Data') # title\n",
    "plt.ylabel('Cost (per $1k)') # set y-axis label\n",
    "plt.xlabel('Size (per 1k sqft)') # set x-axis label\n",
    "plt.show()"
   ]
  },
  {
   "cell_type": "markdown",
   "id": "6e6ba4c9",
   "metadata": {},
   "source": [
    "### Summary Table of Notation for Regression\n",
    "\n",
    "| General Notation | Description | Variables |\n",
    "|:----:|:----|:----:|\n",
    "|$x$|Feature values in Training Data | `x_train` | \n",
    "|$y$|Output values in Training Data | `y_train` |\n",
    "|$x^{(i)}, y^{(i)}$ | $i_{th}$ Training Data point | `x_i, y_i` |\n",
    "| $m$ | Size of Training Data | `m` |\n",
    "| $w$ | regression parameter(coefficient): weight | `w` |\n",
    "| $b$ | regression parameter(coefficient): bias | `b` |\n",
    "| $f_{w, b}(x^{(i)})$ | The prediction of the model at $x^{(i)}$ with parameters $w, b$: $f_{w, b}(x^{(i)}) = wx^{(i)} + b$ | `f_wb` |"
   ]
  },
  {
   "cell_type": "markdown",
   "id": "fded4375",
   "metadata": {},
   "source": [
    "### Step 3: Create the Model Function & Validate\n",
    "\n",
    "For this particular example, we can see from the plot above that the best fit regression would most likely be a straight line. So we can create a function that would calculate the prediction $\\hat{y}$ based on our chosen/calculated $w, b$ values."
   ]
  },
  {
   "cell_type": "code",
   "execution_count": 17,
   "id": "644bdd30",
   "metadata": {},
   "outputs": [],
   "source": [
    "def calculate_prediction(x, w, b):\n",
    "    \"\"\"\n",
    "    Calculates the output of model with parameters w and b\n",
    "    Inputs: \n",
    "        x (ndarray (m,)): Data, size m\n",
    "        w,b (scalar)    : model parameters\n",
    "    Returns: \n",
    "        y (ndarray (m,)): target values\n",
    "    \"\"\"\n",
    "    m = len(x)         # calculate size of data set\n",
    "    f_wb = np.zeros(m) # initialize an empty array for output\n",
    "    for i in range(m):\n",
    "        f_wb[i] = w * x[i] + b # for each data point, fill in output array\n",
    "    return f_wb"
   ]
  },
  {
   "cell_type": "markdown",
   "id": "09e69721",
   "metadata": {},
   "source": [
    "Now we can call the function with our choice of parameters $w,b$. We can calculate $w,b$ by getting the slope and y-intercept of a line that fits the points in the data set (by assuming all the points are on the line)  since we know that this will be a linear regression.\n",
    "<br><br>\n",
    "So then, $w,b$ can be calculated in the following:\n",
    "<br><br>\n",
    "Data points: `[(1, 100), (2,200), (3,300), (4,400), (5,500)]`\n",
    "<br><br>\n",
    "Slope, or $w$: $$ \\frac{{y_{1} - y_{0}}}{{x_{1} - x_{0}}} = \\frac{{200 - 100}}{{2 - 1}} = 100 $$\n",
    "<br><br>\n",
    "Y-intercept, or $b$: $$ y_{0} = wx_{0} + b $$\n",
    "$$ \\Rightarrow 100 = (100)*(1) + b $$\n",
    "$$ \\Rightarrow b = 0 $$\n",
    "<br><br>\n",
    "Now that we have both $w$ and $b$, we can use our `calculate_prediction` function."
   ]
  },
  {
   "cell_type": "code",
   "execution_count": 20,
   "id": "669909f2",
   "metadata": {},
   "outputs": [
    {
     "data": {
      "image/png": "[encoded data removed]",
      "text/plain": [
       "<Figure size 640x480 with 1 Axes>"
      ]
     },
     "metadata": {},
     "output_type": "display_data"
    }
   ],
   "source": [
    "w = 100\n",
    "b = 0\n",
    "prediction_y = calculate_prediction(x_train, w, b)\n",
    "\n",
    "plt.plot(x_train, prediction_y, c='b', label='Predicted Outcomes')\n",
    "plt.scatter(x_train, y_train, marker='x', c='r', label='Actual Outcomes')\n",
    "plt.title('Sample Data') # title\n",
    "plt.ylabel('Cost (per $1k)') # set y-axis label\n",
    "plt.xlabel('Size (per 1k sqft)') # set x-axis label\n",
    "plt.legend()\n",
    "plt.show()"
   ]
  },
  {
   "cell_type": "markdown",
   "id": "47f06372",
   "metadata": {},
   "source": [
    "### Step 5: Predict Outcomes with new data points using the model\n",
    "\n",
    "Using the model created above, we can use it to predict outcomes for new data points. For example, for a feature value ($\\hat{x}$) of 6, (i.e. $x = 6$), we would expect our outcome ($\\hat{y}$) to be 600 using the model function.\n",
    "\n",
    "$$ \\hat{y} = 100{\\hat{x}} + 0 $$\n",
    "$$\\Rightarrow \\hat{y} = 100(6) + 0 = 600 $$"
   ]
  },
  {
   "cell_type": "markdown",
   "id": "1d1ff707",
   "metadata": {},
   "source": [
    "## Cost-Functions\n",
    "\n",
    "### Why do we need them?\n",
    "When we use real-world data, it is almost impossible to find a perfect-fit for any regression. But our goal is to get a best fit regression that limits the amount of deviance from our data set. For example, in the plot above, all five points are on the line perfectly. But what if some of the points were above or below the line? The cost function will help us determine the best fit regression for those situations.\n",
    "<br>\n",
    "<br>\n",
    "The cost function (squared error cost function) is expressed as follows:\n",
    "$$ J(w,b) = \\frac{1}{2m} \\sum_{i=1}^m \\left(\\hat{y}^{(i)} - y^{(i)}\\right)^2 $$\n",
    "Since we know $\\hat{y}$ is the output of $f_{w,b}$ at $x^{(i)}$, we can replace $\\hat{y}$ below:\n",
    "$$ J(w,b) = \\frac{1}{2m} \\sum_{i=1}^m \\left(f_{w,b}(x^{(i)}) - y^{(i)}\\right)^2 $$\n",
    "Simply put, it is the average of the squared differences between the predicted and actual values. It may appear familiar since this equation looks very simimilar to is also the way we would calculate variance from the mean of a data set. \n",
    "<br>\n",
    "<br>\n",
    "This footnote in this link gives a great intuition of why we square the difference: [https://www.mathsisfun.com/data/standard-deviation.html#WhySquare](https://www.mathsisfun.com/data/standard-deviation.html#WhySquare)\n",
    "<br>\n",
    "<br>\n",
    "Now using this equation, our goal is to find the best fit linear regression, which means we want to minimize our cost $J(w,b)$ as much as possible."
   ]
  },
  {
   "cell_type": "code",
   "execution_count": 21,
   "id": "50f2f86d",
   "metadata": {},
   "outputs": [],
   "source": [
    "def get_cost_value(x, y, w, b):\n",
    "    \"\"\"\n",
    "    Computes the cost function (for linear regression)\n",
    "    Inputs:\n",
    "        x (ndarray (m, )): Data Set with m examples\n",
    "        y (ndarray (m, )): Labels for inputs\n",
    "        w,b (scalar)     : model parameters\n",
    "    Returns\n",
    "        total cost (float): The cost/error of using w,b as the parameters for the linear regression f \n",
    "    \"\"\"\n",
    "    \n",
    "    # size of training data\n",
    "    m = len(x)\n",
    "    \n",
    "    cost_sum = 0\n",
    "    for i in range(m):\n",
    "        f_wb = w * x[i] + b\n",
    "        cost = (f_wb - y[i]) ** 2\n",
    "        cost_sum = cost_sum + cost\n",
    "    total_cost = (1 / (2 * m)) * cost_sum\n",
    "    \n",
    "    return total_cost"
   ]
  },
  {
   "cell_type": "markdown",
   "id": "51938829",
   "metadata": {},
   "source": [
    "## Gradient Descent\n",
    "\n",
    "### The Details\n",
    "\n",
    "So how do we calculate the cost function of a regression that is non-linear? For this case we use the algorithm called `gradient descent`.\n",
    "<br><br>\n",
    "Imagine a mapping of $J(w,b)$ that is 3D (kind of like a topographical map). The goal is to find the local minima of the map because that is where the cost will be lowest.\n",
    "<br><br>\n",
    "The algorithm is as follows:\n",
    "$$ w = w - \\alpha \\frac{\\partial}{\\partial w}J\\left(w, b\\right) $$\n",
    "$$ b = b - \\alpha \\frac{\\partial}{\\partial b}J\\left(w, b\\right) $$\n",
    "where $\\alpha$ is the `learning rate`, which is usually a small number between $[0,1]$. It is the **size of the step** you take downhill in the `gradient descent algorithm`. The portion that comes after the $\\alpha$ is called the `derivative`. This determines the **direction** that the step is going towards.\n",
    "You want to continue updating $w$ and $b$ until the movement between each step is minimal."
   ]
  },
  {
   "cell_type": "markdown",
   "id": "84854170",
   "metadata": {},
   "source": [
    "### Learning Rate\n",
    "In order to calculate an accurate minimal cost $J(w, b)$, we need to be careful with how we choose the learning rate, $\\alpha$. \n",
    "<br>\n",
    "<br>\n",
    "If $\\alpha$ is too small...\n",
    "- it will take a long time/a lot of steps to find the minimum\n",
    "- gradient descent may be slow\n",
    "\n",
    "If $\\alpha$ is too large...\n",
    "- gradient descent may overshoot and never reach the minimum\n",
    "- it could never converge and diverse instead.\n",
    "\n",
    "As we approach a local minimum, the local derivative will become smaller, which means that our update steps also become smaller. Because of this, we do not need to adjust our $\\alpha$ - we simply keep it constant.\n",
    "\n",
    "### Putting it all together\n",
    "For our linear regression model\n",
    "$$ f_{w, b}(x) = wx + b $$\n",
    "Our cost function is\n",
    "$$ J(w,b) = \\frac{1}{2m} \\sum_{i=1}^m \\left(f_{w,b}(x^{(i)}) - y^{(i)}\\right)^2 $$\n",
    "We can then write our Gradient Descent Algorithm that we repeat until convergence as:\n",
    "$$ w = w - \\alpha \\frac{\\partial}{\\partial w}J\\left(w, b\\right) = \\frac{1}{m} \\sum_{i=1}^m \\left(f_{w,b}(x^{(i)}) - y^{(i)}\\right)x^{(i)} $$\n",
    "$$ b = b - \\alpha \\frac{\\partial}{\\partial b}J\\left(w, b\\right) = \\frac{1}{m} \\sum_{i=1}^m \\left(f_{w,b}(x^{(i)}) - y^{(i)}\\right) $$\n",
    "<br><br>\n",
    "The derivation of $\\frac{\\partial}{\\partial w}J\\left(w, b\\right)$ is as follows:\n",
    "$$ \\frac{\\partial}{\\partial w}J\\left(w, b\\right) = \\frac{\\partial}{\\partial w}\\frac{1}{2m} \\sum_{i=1}^m \\left(f_{w,b}(x^{(i)}) - y^{(i)}\\right)^2 $$\n",
    "Since \n",
    "$$ f_{w,b}(x^{(i)}) = wx^{(i)} + b$$\n",
    "\n",
    "$$ \n",
    "\\begin{align*}\n",
    "\\frac{\\partial}{\\partial \\color{red}{w}}J\\left(w, b\\right) &= \\frac{\\partial}{\\partial \\color{red}w}\\frac{1}{2m} \\sum_{i=1}^m \\left(\\color{red}{w}x^{(i)} + b - y^{(i)}\\right)^2\\\\\n",
    "&= \\frac{1}{\\color{blue}2m} \\sum_{i=1}^m \\color{blue}2x^{(i)}\\left(wx^{(i)} + b - y^{(i)}\\right) \\\\\n",
    "&= \\frac{1}{m} \\sum_{i=1}^m x^{(i)}\\left(wx^{(i)} + b - y^{(i)}\\right) \\\\\n",
    "&= \\frac{1}{m} \\sum_{i=1}^m \\left(f_{w,b}(x^{(i)}) - y^{(i)}\\right)x^{(i)}\n",
    "\\end{align*}\n",
    "$$"
   ]
  },
  {
   "cell_type": "markdown",
   "id": "40d4ae2f",
   "metadata": {},
   "source": [
    "The derivation of $\\frac{\\partial}{\\partial b}J\\left(w, b\\right)$ is as follows:\n",
    "$$ \\frac{\\partial}{\\partial b}J\\left(w, b\\right) = \\frac{\\partial}{\\partial b}\\frac{1}{2m} \\sum_{i=1}^m \\left(f_{w,b}(x^{(i)}) - y^{(i)}\\right)^2 $$\n",
    "Since \n",
    "$$ f_{w,b}(x^{(i)}) = wx^{(i)} + b \\\\ $$\n",
    "$$ \n",
    "\\begin{align*}\n",
    "\\frac{\\partial}{\\partial \\color{red}b}J\\left(w, b\\right) &= \\frac{\\partial}{\\partial \\color{red}b}\\frac{1}{2m} \\sum_{i=1}^m \\left(wx^{(i)} + \\color{red}{b} - y^{(i)}\\right)^2\\\\\n",
    "&= \\frac{1}{\\color{blue}{2}m} \\sum_{i=1}^m \\color{blue}2\\left(wx^{(i)} + b - y^{(i)}\\right) \\\\\n",
    "&= \\frac{1}{m} \\sum_{i=1}^m \\left(wx^{(i)} + b - y^{(i)}\\right) \\\\\n",
    "&= \\frac{1}{m} \\sum_{i=1}^m \\left(f_{w,b}(x^{(i)}) - y^{(i)}\\right)\n",
    "\\end{align*}\n",
    "$$"
   ]
  },
  {
   "cell_type": "markdown",
   "id": "e7607372",
   "metadata": {},
   "source": [
    "#### Batch gradient descent\n",
    "Batch gradient descent is when each step of the descent uses all the training examples"
   ]
  },
  {
   "cell_type": "markdown",
   "id": "0d837842",
   "metadata": {},
   "source": [
    "### Implementing Gradient Descent\n",
    "Using the equations from above, we want to implement the gradient descent algorithm for one feature. To do this, we will use three functions.\n",
    "- `compute_gradient` which implements the two derivations above\n",
    "- `get_cost_value` which implements the cost function\n",
    "- `gradient_descent` which puts together `compute_gradient` and `get_cost_value`\n"
   ]
  },
  {
   "cell_type": "code",
   "execution_count": 22,
   "id": "09cc5acb",
   "metadata": {},
   "outputs": [],
   "source": [
    "def compute_gradient(x, y, w, b):\n",
    "    \"\"\"\n",
    "    Computes the gradient for linear regression\n",
    "    Inputs:\n",
    "        x(ndarray (m, )): Data, m examples\n",
    "        y(ndarray (m, )): target values\n",
    "        w,b (scalar)    : model parameters\n",
    "    Returns:\n",
    "        dj_dw (scalar): The gradient dJ(w,b)/dw\n",
    "        dj_db (scalar): The gradient dJ(w,b)/db\n",
    "    \"\"\"\n",
    "    \n",
    "    m = len(x)\n",
    "    dj_dw = 0\n",
    "    dj_db = 0\n",
    "    \n",
    "    for i in range(m):\n",
    "        f_wb = w * x[i] + b\n",
    "        dj_dw_i = (f_wb - y[i]) * x[i]  # inside the parens for gradient equation dJ(w,b)/dw\n",
    "        dj_db_i = (f_wb - y[i])         # inside the parens for gradient equation dJ(w,b)/db\n",
    "        dj_dw += dj_dw_i\n",
    "        dj_db += dj_db_i\n",
    "    dj_dw = dj_dw / m\n",
    "    dj_db = dj_db / m\n",
    "    \n",
    "    return dj_dw, dj_db"
   ]
  },
  {
   "cell_type": "code",
   "execution_count": 40,
   "id": "7e496179",
   "metadata": {},
   "outputs": [],
   "source": [
    "def gradient_descent(x, y, w_in, b_in, alpha, num_iters, get_cost_value, gradient_function):\n",
    "    \"\"\"\n",
    "    Performs gradient descent to fit w,b. Updates w,b by taking \n",
    "    num_iters gradient steps with learning rate alpha.\n",
    "    \n",
    "    Inputs:\n",
    "        x(ndarray (m, ))  : Data, m examples\n",
    "        y(ndarray (m, ))  : target values\n",
    "        w_in,b_in (scalar): initial values of model parameters\n",
    "        alpha (float)     : learning rate\n",
    "        num_iters (int)   : number of iterations to run gradient descent\n",
    "        get_cost_value    : function to calculate cost\n",
    "        gradient_function : function to calculate gradient\n",
    "        \n",
    "    Returns:\n",
    "        w (scalar)  : new w value after running gradient descent\n",
    "        b (scalar)  : new b value after running gradient descent\n",
    "        J_history (List): History of cost values\n",
    "        p_history (List): History of parameters [w,b]\n",
    "    \"\"\"\n",
    "    \n",
    "    J_history = [] # initializing empty array to store cost values\n",
    "    p_history = [] # initializing empty array to store parameters\n",
    "    b = b_in\n",
    "    w = w_in\n",
    "    \n",
    "    for i in range(num_iters):\n",
    "        # Step 1: calculate the gradient and update params using gradient function\n",
    "        dj_dw, dj_db = gradient_function(x, y, w, b)\n",
    "        \n",
    "        # Step 2: Update params with calculated gradient\n",
    "        b = b - alpha * dj_db\n",
    "        w = w - alpha * dj_dw\n",
    "        \n",
    "        # Step 3: Save cost and params at each iteration\n",
    "        if i < 100000:      # prevent resource exhaustion \n",
    "            J_history.append(get_cost_value(x, y, w , b))\n",
    "            p_history.append([w,b])\n",
    "        # Step 4: Print cost every 10 iterations\n",
    "        if i % math.ceil(num_iters/10) == 0:\n",
    "            print(f\"Iteration {i:4}: Cost {J_history[-1]:0.2e} \",\n",
    "                  f\"dj_dw: {dj_dw: 0.3e}, dj_db: {dj_db: 0.3e}  \",\n",
    "                  f\"w: {w: 0.3e}, b:{b: 0.5e}\")\n",
    "        \n",
    "    return w, b, J_history, p_history"
   ]
  },
  {
   "cell_type": "code",
   "execution_count": 41,
   "id": "a86d9479",
   "metadata": {},
   "outputs": [
    {
     "name": "stdout",
     "output_type": "stream",
     "text": [
      "Iteration    0: Cost 4.28e+04  dj_dw: -1.100e+03, dj_db: -3.000e+02   w:  1.100e+01, b: 3.00000e+00\n",
      "Iteration 1000: Cost 2.04e+00  dj_dw: -2.218e-01, dj_db:  8.009e-01   w:  9.869e+01, b: 4.72965e+00\n",
      "Iteration 2000: Cost 6.91e-02  dj_dw: -4.085e-02, dj_db:  1.475e-01   w:  9.976e+01, b: 8.71046e-01\n",
      "Iteration 3000: Cost 2.34e-03  dj_dw: -7.524e-03, dj_db:  2.716e-02   w:  9.996e+01, b: 1.60418e-01\n",
      "Iteration 4000: Cost 7.94e-05  dj_dw: -1.386e-03, dj_db:  5.003e-03   w:  9.999e+01, b: 2.95438e-02\n",
      "Iteration 5000: Cost 2.69e-06  dj_dw: -2.552e-04, dj_db:  9.213e-04   w:  1.000e+02, b: 5.44099e-03\n",
      "Iteration 6000: Cost 9.14e-08  dj_dw: -4.700e-05, dj_db:  1.697e-04   w:  1.000e+02, b: 1.00205e-03\n",
      "Iteration 7000: Cost 3.10e-09  dj_dw: -8.656e-06, dj_db:  3.125e-05   w:  1.000e+02, b: 1.84545e-04\n",
      "Iteration 8000: Cost 1.05e-10  dj_dw: -1.594e-06, dj_db:  5.755e-06   w:  1.000e+02, b: 3.39871e-05\n",
      "Iteration 9000: Cost 3.57e-12  dj_dw: -2.936e-07, dj_db:  1.060e-06   w:  1.000e+02, b: 6.25931e-06\n",
      "(w,b) found by gradient descent: ( 100.0000,   0.0000)\n"
     ]
    }
   ],
   "source": [
    "# initialize parameters\n",
    "w_init = 0\n",
    "b_init = 0\n",
    "# some gradient descent settings\n",
    "iterations = 10000\n",
    "tmp_alpha = 1.0e-2\n",
    "# run gradient descent\n",
    "w_final, b_final, J_hist, p_hist = gradient_descent(x_train ,y_train, w_init, b_init, tmp_alpha, \n",
    "                                                    iterations, get_cost_value, compute_gradient)\n",
    "\n",
    "print(f\"(w,b) found by gradient descent: ({w_final: 8.4f}, {b_final: 8.4f})\")"
   ]
  },
  {
   "cell_type": "markdown",
   "id": "56f0a019",
   "metadata": {},
   "source": [
    "### Plotting Cost vs Iteration\n",
    "In order to get a better picture of what this gradient descent process is doing, it is sometimes good to plot the history we store in the function. From the shape of the plots, we can see that in the beginning ~100 steps, there is a rapid decline in cost and then towards the end ~8000 steps, the cost decline becomes much smaller."
   ]
  },
  {
   "cell_type": "code",
   "execution_count": 42,
   "id": "8b721b2d",
   "metadata": {},
   "outputs": [
    {
     "data": {
      "image/png": "[encoded data removed]",
      "text/plain": [
       "<Figure size 1200x400 with 2 Axes>"
      ]
     },
     "metadata": {},
     "output_type": "display_data"
    }
   ],
   "source": [
    "# plot cost versus iteration  \n",
    "fig, (ax1, ax2) = plt.subplots(1, 2, constrained_layout=True, figsize=(12,4))\n",
    "ax1.plot(J_hist[:100])\n",
    "ax2.plot(1000 + np.arange(len(J_hist[1000:])), J_hist[1000:])\n",
    "ax1.set_title(\"Cost vs. iteration(start)\");  ax2.set_title(\"Cost vs. iteration (end)\")\n",
    "ax1.set_ylabel('Cost')            ;  ax2.set_ylabel('Cost') \n",
    "ax1.set_xlabel('iteration step')  ;  ax2.set_xlabel('iteration step') \n",
    "plt.show()"
   ]
  },
  {
   "cell_type": "markdown",
   "id": "eebce97d",
   "metadata": {},
   "source": [
    "### Predicting\n",
    "\n",
    "Now that we have found our $w, b$ values through running our gradient descent, we can use it to predict future values. If you recall (way up above), our sample example had 5 data points. When doing the math manually, we figured that for a $\\hat{x}$ value of 6, we expected an output $\\hat{y}$ of 600. We can use our $w,b$ values to calculate whether the values we got through gradient descent is correct:"
   ]
  },
  {
   "cell_type": "code",
   "execution_count": 44,
   "id": "061ddae3",
   "metadata": {},
   "outputs": [
    {
     "name": "stdout",
     "output_type": "stream",
     "text": [
      "6 prediction 600.0\n",
      "7 prediction 700.0\n",
      "8 prediction 800.0\n"
     ]
    }
   ],
   "source": [
    "print(f\"6 prediction {w_final*6 + b_final:0.1f}\")\n",
    "print(f\"7 prediction {w_final*7 + b_final:0.1f}\")\n",
    "print(f\"8 prediction {w_final*8 + b_final:0.1f}\")"
   ]
  },
  {
   "cell_type": "code",
   "execution_count": null,
   "id": "90cae6e4",
   "metadata": {},
   "outputs": [],
   "source": []
  }
 ],
 "metadata": {
  "kernelspec": {
   "display_name": "Python 3 (ipykernel)",
   "language": "python",
   "name": "python3"
  },
  "language_info": {
   "codemirror_mode": {
    "name": "ipython",
    "version": 3
   },
   "file_extension": ".py",
   "mimetype": "text/x-python",
   "name": "python",
   "nbconvert_exporter": "python",
   "pygments_lexer": "ipython3",
   "version": "3.11.3"
  }
 },
 "nbformat": 4,
 "nbformat_minor": 5
}
